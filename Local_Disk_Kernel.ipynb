{
 "cells": [
  {
   "cell_type": "code",
   "execution_count": 1,
   "metadata": {},
   "outputs": [
    {
     "name": "stdout",
     "output_type": "stream",
     "text": [
      "WARNING:tensorflow:From C:\\Users\\MMOHTASHIM\\Anaconda3\\lib\\site-packages\\tensorflow\\python\\ops\\resource_variable_ops.py:435: colocate_with (from tensorflow.python.framework.ops) is deprecated and will be removed in a future version.\n",
      "Instructions for updating:\n",
      "Colocations handled automatically by placer.\n",
      "WARNING:tensorflow:From C:\\Users\\MMOHTASHIM\\Anaconda3\\lib\\site-packages\\tensorflow\\python\\keras\\layers\\core.py:143: calling dropout (from tensorflow.python.ops.nn_ops) with keep_prob is deprecated and will be removed in a future version.\n",
      "Instructions for updating:\n",
      "Please use `rate` instead of `keep_prob`. Rate should be set to `rate = 1 - keep_prob`.\n",
      "WARNING:tensorflow:From C:\\Users\\MMOHTASHIM\\Anaconda3\\lib\\site-packages\\tensorflow\\python\\keras\\utils\\losses_utils.py:170: to_float (from tensorflow.python.ops.math_ops) is deprecated and will be removed in a future version.\n",
      "Instructions for updating:\n",
      "Use tf.cast instead.\n",
      "WARNING:tensorflow:From C:\\Users\\MMOHTASHIM\\Anaconda3\\lib\\site-packages\\tensorflow\\python\\ops\\math_ops.py:3066: to_int32 (from tensorflow.python.ops.math_ops) is deprecated and will be removed in a future version.\n",
      "Instructions for updating:\n",
      "Use tf.cast instead.\n"
     ]
    }
   ],
   "source": [
    "from tensorflow import keras\n",
    "from tensorflow.keras.models import load_model\n",
    "import os\n",
    "import pickle\n",
    "os.chdir(r'C:\\Users\\MMOHTASHIM\\Anaconda3\\libs\\Small Data Science projects\\Small-Data-Science-Projects\\LANL Earthuquake prediction')\n",
    "model=load_model('my_keras_model.h5')"
   ]
  },
  {
   "cell_type": "code",
   "execution_count": null,
   "metadata": {},
   "outputs": [
    {
     "name": "stderr",
     "output_type": "stream",
     "text": [
      "  5%|▌         | 134/2624 [19:32<6:03:27,  8.76s/it]"
     ]
    }
   ],
   "source": [
    "from tqdm import tqdm\n",
    "from scipy.stats import kurtosis,skew\n",
    "from statistics import mode,mean\n",
    "import pandas as pd\n",
    "import numpy as np\n",
    "import pickle\n",
    "from sklearn.pipeline import Pipeline\n",
    "from sklearn.preprocessing import StandardScaler\n",
    "\n",
    "\n",
    "os.chdir(r'C:\\Users\\MMOHTASHIM\\Anaconda3\\libs\\Small Data Science projects\\Small-Data-Science-Projects\\LANL Earthuquake prediction\\test_data')\n",
    "predicted={}\n",
    "f=[]\n",
    "for file in os.listdir(os.getcwd()):\n",
    "    f.append(file)\n",
    "for filename in tqdm(f):\n",
    "    df=pd.read_csv(filename)\n",
    "    for newcol in [\"Mean per 150k\",\"std per 150k\",\"min per 150k\",\"max per 150k\",\"Median per 150k\",\n",
    "              \"Mean\",\"std\",\"min\",\"max\",\"Median\",\"Moving Average Overallwindow5\",\n",
    "              \"Moving Average Overallwindow10\",'Ratio Succession_window5','Ratio Succession_window10',\n",
    "              'kurtosis per 150k',\"Mode per 150k\",\"skew per 150k\",\"quantile0.95 per 150k\",\"quantile0.05 per 150k\",\"quantile0.25 per 150k\",\"quantile0.75 per 150k\"]:\n",
    "        df[newcol]=0\n",
    "    df['Mean per 150k']=df[\"acoustic_data\"].rolling(15).mean()\n",
    "    df['std per 150k']=df[\"acoustic_data\"].rolling(15).std()\n",
    "    df['min per 150k']=df[\"acoustic_data\"].rolling(15).max()\n",
    "    df['max per 150k']=df[\"acoustic_data\"].rolling(15).min()\n",
    "    df['Median per 150k']=df[\"acoustic_data\"].rolling(15).median()\n",
    "    df['Mean']=np.mean(df[\"acoustic_data\"])\n",
    "    df['std']=np.std(df[\"acoustic_data\"])\n",
    "    df['min']=np.min(df[\"acoustic_data\"])\n",
    "    df['max']=np.max(df[\"acoustic_data\"])\n",
    "    df['Median']=np.median(df[\"acoustic_data\"])\n",
    "    df[\"Moving Average Overallwindow5\"]=df[\"acoustic_data\"].rolling(5).mean()\n",
    "    df[\"Moving Average Overallwindow10\"]=df[\"acoustic_data\"].rolling(10).mean()\n",
    "    df['Ratio Succession_window5']=df[\"acoustic_data\"].pct_change(periods=5)\n",
    "    df['Ratio Succession_window10']=df[\"acoustic_data\"].pct_change(periods=10)\n",
    "    df['kurtosis per 150k']=kurtosis(df[\"acoustic_data\"])\n",
    "    try:\n",
    "         df[\"Mode per 150k\"]=mode(df[\"acoustic_data\"])\n",
    "    except:\n",
    "         df[\"Mode per 150k\"]=0\n",
    "    df['skew per 150k']=skew(df[\"acoustic_data\"])\n",
    "    df['quantile0.95 per 150k']=np.quantile(df[\"acoustic_data\"],0.95)\n",
    "    df['quantile0.05 per 150k']=np.quantile(df[\"acoustic_data\"],0.05)\n",
    "    df['quantile0.25 per 150k']=np.quantile(df[\"acoustic_data\"],0.25)\n",
    "    df['quantile0.75 per 150k']=np.quantile(df[\"acoustic_data\"],0.75)\n",
    "    \n",
    "    \n",
    "    df=df.replace([np.inf, -np.inf], np.nan).dropna()\n",
    "    X=np.array(df)\n",
    "    preprocessing_pipeline = Pipeline(steps=[\n",
    "      ('scaler', StandardScaler())])\n",
    "    X_transformed=preprocessing_pipeline.fit_transform(X)  \n",
    "    y_pred=np.array(model.predict(X_transformed))\n",
    "    predicted[str(filename)]=np.mean(y_pred)\n",
    "  \n"
   ]
  },
  {
   "cell_type": "code",
   "execution_count": null,
   "metadata": {},
   "outputs": [],
   "source": [
    "os.chdir(r'C:\\Users\\MMOHTASHIM\\Anaconda3\\libs\\Small Data Science projects\\Small-Data-Science-Projects\\LANL Earthuquake prediction')\n",
    "df_sub=pd.read_csv(\"sample_submission.csv\")\n",
    "s=-1\n",
    "for i in df_sub[\"seg_id\"]:\n",
    "         s+=1\n",
    "         df_sub.iloc[s,1]=predicted[str(i)+\".csv\"]\n",
    "            "
   ]
  },
  {
   "cell_type": "code",
   "execution_count": null,
   "metadata": {},
   "outputs": [],
   "source": [
    "df_sub.to_csv(\"submission.csv\")"
   ]
  },
  {
   "cell_type": "code",
   "execution_count": null,
   "metadata": {},
   "outputs": [],
   "source": [
    "import os\n",
    "os.system('shutdown -s')"
   ]
  },
  {
   "cell_type": "code",
   "execution_count": null,
   "metadata": {},
   "outputs": [],
   "source": []
  }
 ],
 "metadata": {
  "kernelspec": {
   "display_name": "Python 3",
   "language": "python",
   "name": "python3"
  },
  "language_info": {
   "codemirror_mode": {
    "name": "ipython",
    "version": 3
   },
   "file_extension": ".py",
   "mimetype": "text/x-python",
   "name": "python",
   "nbconvert_exporter": "python",
   "pygments_lexer": "ipython3",
   "version": "3.7.1"
  }
 },
 "nbformat": 4,
 "nbformat_minor": 2
}
