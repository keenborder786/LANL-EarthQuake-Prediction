{
 "cells": [
  {
   "cell_type": "markdown",
   "metadata": {},
   "source": [
    "<h1> Second Approach</h1>\n",
    "<p1>Okay Given the context of my first approach, I took a more dyamic approach towards the given problem, I used three models \n",
    "which tend to perform better given the diverse feature extraction of the Data.</p1> \n"
   ]
  },
  {
   "cell_type": "code",
   "execution_count": 11,
   "metadata": {
    "colab": {
     "base_uri": "https://localhost:8080/",
     "height": 479
    },
    "colab_type": "code",
    "id": "9AybXjlEIi8C",
    "outputId": "bfcb789c-6888-42d2-e576-0ee66996cb9f"
   },
   "outputs": [],
   "source": [
    "!pip install pydrive\n",
    "from google.colab import drive\n",
    "drive.mount('/content/gdrive')\n"
   ]
  },
  {
   "cell_type": "code",
   "execution_count": 0,
   "metadata": {
    "colab": {},
    "colab_type": "code",
    "id": "95iL35elKJJD"
   },
   "outputs": [],
   "source": [
    "import pandas as pd\n",
    "import numpy as np\n",
    "import pickle\n",
    "import os\n",
    "from tqdm import tqdm\n",
    "from sklearn.model_selection import train_test_split"
   ]
  },
  {
   "cell_type": "markdown",
   "metadata": {},
   "source": [
    "<font size=\"5\"> Main Feature Extraction</font>\n",
    "<p>So this time what I did was quite simple I read the main csv file in chunks of 150000(reasong being the testing files have about 150000rows)\n",
    ".Afterwards, I took that chunk of 150000 and ran through the below function.This in turn generate fifteen different values for 150000 chunks of the \n",
    "data. The features used:\n",
    "    1-Mean\n",
    "    2-Standard Deviation\n",
    "    3-Minimum\n",
    "    4-Maximum\n",
    "    5-Kurtosis\n",
    "    6-Skew\n",
    "    7-Quantile(0.01)\n",
    "    8-Quantile(0.05)\n",
    "    9-Uqntile(0.95)\n",
    "    9-Quantile(0.99)\n",
    "    10-Absolute Maximum Values\n",
    "    11-Absolute Minimum Values\n",
    "    12-Absolute Standard Deviation Values\n",
    "    13-Absolute Difference Betwee Max and Min Values\n",
    "    14-Median Values\n",
    "This helped me to reduce the size of the data, as for 150000 values i generate fifteen values and this means fifteen features were extracted for every\n",
    "150000 data which reduces the data into size of 4195 with 15 features</p>"
   ]
  },
  {
   "cell_type": "code",
   "execution_count": 0,
   "metadata": {
    "colab": {},
    "colab_type": "code",
    "id": "mhDDtqfoIsCu"
   },
   "outputs": [],
   "source": [
    "def gen_features(X):\n",
    "    strain = []\n",
    "    strain.append(X.mean())\n",
    "    strain.append(X.std())\n",
    "    strain.append(X.min())\n",
    "    strain.append(X.max())\n",
    "    strain.append(X.kurtosis())\n",
    "    strain.append(X.skew())\n",
    "    strain.append(np.quantile(X,0.01))\n",
    "    strain.append(np.quantile(X,0.05))\n",
    "    strain.append(np.quantile(X,0.95))\n",
    "    strain.append(np.quantile(X,0.99))\n",
    "    strain.append(np.abs(X).max())\n",
    "    strain.append(np.abs(X).mean())\n",
    "    strain.append(np.abs(X).std())\n",
    "    strain.append(np.abs(X.max()-X.min()))\n",
    "    strain.append(X.median())\n",
    "    return strain"
   ]
  },
  {
   "cell_type": "code",
   "execution_count": 0,
   "metadata": {
    "colab": {
     "base_uri": "https://localhost:8080/",
     "height": 57,
     "resources": {
      "http://localhost:8080/nbextensions/google.colab/files.js": {
       "data": "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",
       "headers": [
        [
         "content-type",
         "application/javascript"
        ]
       ],
       "ok": true,
       "status": 200,
       "status_text": ""
      }
     }
    },
    "colab_type": "code",
    "id": "wDKeZnd3PiMC",
    "outputId": "a00c0516-ca5b-4549-a475-05f01cf041f6"
   },
   "outputs": [
    {
     "data": {
      "text/html": [
       "\n",
       "     <input type=\"file\" id=\"files-0714406b-7b5e-4447-9064-05a586f3d6a3\" name=\"files[]\" multiple disabled />\n",
       "     <output id=\"result-0714406b-7b5e-4447-9064-05a586f3d6a3\">\n",
       "      Upload widget is only available when the cell has been executed in the\n",
       "      current browser session. Please rerun this cell to enable.\n",
       "      </output>\n",
       "      <script src=\"/nbextensions/google.colab/files.js\"></script> "
      ],
      "text/plain": [
       "<IPython.core.display.HTML object>"
      ]
     },
     "metadata": {
      "tags": []
     },
     "output_type": "display_data"
    },
    {
     "data": {
      "text/plain": [
       "{}"
      ]
     },
     "execution_count": 4,
     "metadata": {
      "tags": []
     },
     "output_type": "execute_result"
    }
   ],
   "source": [
    "root_path = 'gdrive/My Drive/your_project_folder/'  #change dir to your project folder\n",
    "from google.colab import files\n",
    "files.upload()  #this will prompt you to upload the kaggle.json"
   ]
  },
  {
   "cell_type": "code",
   "execution_count": 0,
   "metadata": {
    "colab": {
     "base_uri": "https://localhost:8080/",
     "height": 51
    },
    "colab_type": "code",
    "id": "SuPuZIqrPi4i",
    "outputId": "b3f394e3-5318-465e-b670-25f5d69a9948"
   },
   "outputs": [
    {
     "name": "stdout",
     "output_type": "stream",
     "text": [
      "cp: cannot stat 'kaggle.json': No such file or directory\n",
      "chmod: cannot access '/root/.kaggle/kaggle.json': No such file or directory\n"
     ]
    }
   ],
   "source": [
    "!pip install -q kaggle\n",
    "!mkdir -p ~/.kaggle\n",
    "!cp kaggle.json ~/.kaggle/\n",
    "!ls ~/.kaggle\n",
    "!chmod 600 /root/.kaggle/kaggle.json  # set permission"
   ]
  },
  {
   "cell_type": "code",
   "execution_count": 0,
   "metadata": {
    "colab": {
     "base_uri": "https://localhost:8080/",
     "height": 153
    },
    "colab_type": "code",
    "id": "wED6RSiaPmdB",
    "outputId": "605646f1-794f-46a5-c100-a2ba7b864869"
   },
   "outputs": [
    {
     "name": "stdout",
     "output_type": "stream",
     "text": [
      "Traceback (most recent call last):\n",
      "  File \"/usr/local/bin/kaggle\", line 6, in <module>\n",
      "    from kaggle.cli import main\n",
      "  File \"/usr/local/lib/python2.7/dist-packages/kaggle/__init__.py\", line 23, in <module>\n",
      "    api.authenticate()\n",
      "  File \"/usr/local/lib/python2.7/dist-packages/kaggle/api/kaggle_api_extended.py\", line 146, in authenticate\n",
      "    self.config_file, self.config_dir))\n",
      "IOError: Could not find kaggle.json. Make sure it's located in /root/.kaggle. Or use the environment method.\n"
     ]
    }
   ],
   "source": [
    "!kaggle competitions download -c LANL-Earthquake-Prediction -p /content/gdrive/My\\ Drive/kaggle/lanl"
   ]
  },
  {
   "cell_type": "code",
   "execution_count": 0,
   "metadata": {
    "colab": {},
    "colab_type": "code",
    "id": "WIJhk8aWX4D6"
   },
   "outputs": [],
   "source": [
    "import os\n",
    "os.chdir('/content/gdrive/My Drive/kaggle/lanl')\n",
    "!mkdir train  #create a directory named train/\n",
    "!mkdir test  #create a directory named test/\n",
    "!unzip -q train.csv.zip -d train/  #unzip data in train/"
   ]
  },
  {
   "cell_type": "markdown",
   "metadata": {},
   "source": [
    "<p>Running the function incrementally on the Train Data Set<p>"
   ]
  },
  {
   "cell_type": "code",
   "execution_count": 0,
   "metadata": {
    "colab": {
     "base_uri": "https://localhost:8080/",
     "height": 34
    },
    "colab_type": "code",
    "id": "1yKIr69AKSJq",
    "outputId": "486229bc-9d23-4ded-c013-bc474a721bd4"
   },
   "outputs": [
    {
     "name": "stderr",
     "output_type": "stream",
     "text": [
      "4195it [31:54,  2.81it/s]\n"
     ]
    }
   ],
   "source": [
    "os.chdir('/content/gdrive/My Drive/kaggle/lanl/train') \n",
    "train = pd.read_csv('train.csv', iterator=True, chunksize=150_000, dtype={'acoustic_data': np.int16, 'time_to_failure': np.float64},engine='python')\n",
    "X_train =[]\n",
    "y_train = []\n",
    "for df in tqdm(train):\n",
    "    ch = gen_features(df['acoustic_data'])\n",
    "    X_train.append(ch)\n",
    "    y_train.append((np.mean(df['time_to_failure'])))\n",
    "X_train=np.array(X_train)\n",
    "y_train=np.array(y_train)\n",
    "\n",
    "np.save(\"X_train\",X_train)\n",
    "np.save(\"y_train\",y_train)"
   ]
  },
  {
   "cell_type": "markdown",
   "metadata": {},
   "source": [
    "<font size=\"5\">XgboostRegressor</font>\n",
    "<p>GridSearchCv for Parameter Tuning for Xgboost Regressor<p>"
   ]
  },
  {
   "cell_type": "code",
   "execution_count": 5,
   "metadata": {
    "colab": {
     "base_uri": "https://localhost:8080/",
     "height": 323
    },
    "colab_type": "code",
    "id": "bqrzjeriKZCr",
    "outputId": "ff37d847-e8a8-419b-ddb6-def59c72975e"
   },
   "outputs": [],
   "source": [
    "!pip install xgboost\n",
    "import xgboost as xgb\n",
    "from sklearn.model_selection import GridSearchCV\n",
    "os.chdir('/content/gdrive/My Drive/kaggle/lanl/train') \n",
    "\n",
    "X_train=np.load('X_train.npy')\n",
    "y_train=np.load('y_train.npy')\n",
    "parameters = {'nthread':[4], #when use hyperthread, xgboost may become slower\n",
    "              'objective':['reg:squarederror'],\n",
    "              'learning_rate': [0.01,0.02,0.03,0.04,0.05,0.06,0.1,0.2,0.3], #so called `eta` value\n",
    "              'max_depth': [5,6,7,8],\n",
    "              'silent': [1],\n",
    "              'subsample': [0.5,0.6,0.7],\n",
    "              'colsample_bytree': [0.5,0.6,0.7],\n",
    "             'rate_drop':[0.1,0.2,0.3,0.4,0.5,0.6]}\n",
    "\n",
    "xgb_model = xgb.XGBRegressor()\n",
    "clf = GridSearchCV(xgb_model, parameters, n_jobs=-1, \n",
    "                   cv=3,verbose=2)\n",
    "xtrain, xvalid, ytrain, yvalid = train_test_split(X_train,y_train)\n",
    "xgb_model = clf.fit(X_train,y_train)\n"
   ]
  },
  {
   "cell_type": "code",
   "execution_count": 0,
   "metadata": {
    "colab": {},
    "colab_type": "code",
    "id": "MZdoYSYCrL0v"
   },
   "outputs": [],
   "source": [
    "clf.best_params_\n",
    "parms_optimal={'colsample_bytree': 0.5,'learning_rate': 0.04,'max_depth': 5,'nthread': 4,\n",
    " 'objective': 'reg:squarederror',\n",
    " 'rate_drop': 0.1,\n",
    " 'silent': 1,\n",
    " 'subsample': 0.5}"
   ]
  },
  {
   "cell_type": "code",
   "execution_count": 0,
   "metadata": {
    "colab": {
     "base_uri": "https://localhost:8080/",
     "height": 34
    },
    "colab_type": "code",
    "id": "oI_zPUSBF-Yq",
    "outputId": "9fb08be8-5ca8-4119-9307-399918573a5f"
   },
   "outputs": [
    {
     "data": {
      "text/plain": [
       "((4195, 15), (4195,))"
      ]
     },
     "execution_count": 21,
     "metadata": {
      "tags": []
     },
     "output_type": "execute_result"
    }
   ],
   "source": [
    "X_train.shape,y_train.shape"
   ]
  },
  {
   "cell_type": "code",
   "execution_count": 3,
   "metadata": {
    "colab": {
     "base_uri": "https://localhost:8080/",
     "height": 1000
    },
    "colab_type": "code",
    "id": "9NkcE2-MBi2a",
    "outputId": "9dc27532-4431-43d5-e751-217d494d38df"
   },
   "outputs": [],
   "source": [
    "!pip install xgboost\n",
    "import xgboost as xgb\n",
    "\n",
    "xgb_model = xgb.XGBRegressor(max_depth=5,learning_rate=0.04,objective='reg:squarederror',n_jobs=-1,colsample_bytree=0.5,rate_drop=0.1,\n",
    "                            verbosity=2,subsample=0.5)\n",
    "xgb_model.fit(X_train,y_train)\n",
    "xgb_model.save_model('mainxgboost.model')"
   ]
  },
  {
   "cell_type": "markdown",
   "metadata": {},
   "source": [
    "<font size=\"5\">CatBoostRegressor</font>"
   ]
  },
  {
   "cell_type": "code",
   "execution_count": 4,
   "metadata": {
    "colab": {
     "base_uri": "https://localhost:8080/",
     "height": 1000
    },
    "colab_type": "code",
    "id": "CfVjRZRtUx2v",
    "outputId": "c7926cb6-cf03-4def-e4e3-f8cbca3403a1"
   },
   "outputs": [],
   "source": [
    "!pip install catboost\n",
    "from catboost import CatBoostRegressor, Pool\n",
    "import catboost\n",
    "m = CatBoostRegressor(iterations=10000, loss_function='MAE', boosting_type='Ordered')\n",
    "m.fit(X_train, y_train,verbose=True)"
   ]
  },
  {
   "cell_type": "code",
   "execution_count": 0,
   "metadata": {
    "colab": {
     "base_uri": "https://localhost:8080/",
     "height": 34
    },
    "colab_type": "code",
    "id": "GxriZZHSdEb0",
    "outputId": "c676d446-58b5-43e1-d76f-6433209736ae"
   },
   "outputs": [
    {
     "data": {
      "text/plain": [
       "{'learn': {'MAE': 1.793845582395613}}"
      ]
     },
     "execution_count": 27,
     "metadata": {
      "tags": []
     },
     "output_type": "execute_result"
    }
   ],
   "source": [
    "m.save_model(\"catboost.model\")\n",
    "m.best_score_"
   ]
  },
  {
   "cell_type": "markdown",
   "metadata": {},
   "source": [
    "<font size=\"5\">Neural Network</font>"
   ]
  },
  {
   "cell_type": "code",
   "execution_count": 0,
   "metadata": {
    "colab": {
     "base_uri": "https://localhost:8080/",
     "height": 1000
    },
    "colab_type": "code",
    "id": "ms7jogTZetAR",
    "outputId": "c741cbd3-e7b6-4d14-db92-1509b666221d"
   },
   "outputs": [
    {
     "name": "stderr",
     "output_type": "stream",
     "text": [
      "Using TensorFlow backend.\n",
      "WARNING: Logging before flag parsing goes to stderr.\n",
      "W0727 23:03:25.260754 140663963035520 deprecation_wrapper.py:119] From /usr/local/lib/python3.6/dist-packages/keras/backend/tensorflow_backend.py:74: The name tf.get_default_graph is deprecated. Please use tf.compat.v1.get_default_graph instead.\n",
      "\n",
      "W0727 23:03:25.329705 140663963035520 deprecation_wrapper.py:119] From /usr/local/lib/python3.6/dist-packages/keras/backend/tensorflow_backend.py:517: The name tf.placeholder is deprecated. Please use tf.compat.v1.placeholder instead.\n",
      "\n",
      "W0727 23:03:25.342324 140663963035520 deprecation_wrapper.py:119] From /usr/local/lib/python3.6/dist-packages/keras/backend/tensorflow_backend.py:4138: The name tf.random_uniform is deprecated. Please use tf.random.uniform instead.\n",
      "\n",
      "W0727 23:03:25.471168 140663963035520 deprecation_wrapper.py:119] From /usr/local/lib/python3.6/dist-packages/keras/backend/tensorflow_backend.py:133: The name tf.placeholder_with_default is deprecated. Please use tf.compat.v1.placeholder_with_default instead.\n",
      "\n",
      "W0727 23:03:25.511695 140663963035520 deprecation_wrapper.py:119] From /usr/local/lib/python3.6/dist-packages/keras/optimizers.py:790: The name tf.train.Optimizer is deprecated. Please use tf.compat.v1.train.Optimizer instead.\n",
      "\n",
      "W0727 23:03:25.832104 140663963035520 deprecation_wrapper.py:119] From /usr/local/lib/python3.6/dist-packages/keras/backend/tensorflow_backend.py:986: The name tf.assign_add is deprecated. Please use tf.compat.v1.assign_add instead.\n",
      "\n"
     ]
    },
    {
     "name": "stdout",
     "output_type": "stream",
     "text": [
      "Train on 4195 samples, validate on 1049 samples\n",
      "Epoch 1/250\n",
      "4195/4195 [==============================] - 5s 1ms/step - loss: 34.4931 - mean_squared_error: 34.4931 - val_loss: 24.9285 - val_mean_squared_error: 24.9285\n",
      "Epoch 2/250\n",
      "4195/4195 [==============================] - 1s 197us/step - loss: 14.2773 - mean_squared_error: 14.2773 - val_loss: 11.0039 - val_mean_squared_error: 11.0039\n",
      "Epoch 3/250\n",
      "4195/4195 [==============================] - 1s 188us/step - loss: 9.0733 - mean_squared_error: 9.0733 - val_loss: 10.0639 - val_mean_squared_error: 10.0639\n",
      "Epoch 4/250\n",
      "4195/4195 [==============================] - 1s 180us/step - loss: 8.8827 - mean_squared_error: 8.8827 - val_loss: 9.5205 - val_mean_squared_error: 9.5205\n",
      "Epoch 5/250\n",
      "4195/4195 [==============================] - 1s 179us/step - loss: 8.8733 - mean_squared_error: 8.8733 - val_loss: 9.0542 - val_mean_squared_error: 9.0542\n",
      "Epoch 6/250\n",
      "4195/4195 [==============================] - 1s 179us/step - loss: 8.8365 - mean_squared_error: 8.8365 - val_loss: 8.9225 - val_mean_squared_error: 8.9225\n",
      "Epoch 7/250\n",
      "4195/4195 [==============================] - 1s 185us/step - loss: 8.6560 - mean_squared_error: 8.6560 - val_loss: 9.2005 - val_mean_squared_error: 9.2005\n",
      "Epoch 8/250\n",
      "4195/4195 [==============================] - 1s 175us/step - loss: 8.7414 - mean_squared_error: 8.7414 - val_loss: 8.7516 - val_mean_squared_error: 8.7516\n",
      "Epoch 9/250\n",
      "4195/4195 [==============================] - 1s 182us/step - loss: 8.5537 - mean_squared_error: 8.5537 - val_loss: 8.5520 - val_mean_squared_error: 8.5520\n",
      "Epoch 10/250\n",
      "4195/4195 [==============================] - 1s 182us/step - loss: 8.6256 - mean_squared_error: 8.6256 - val_loss: 8.7490 - val_mean_squared_error: 8.7490\n",
      "Epoch 11/250\n",
      "4195/4195 [==============================] - 1s 179us/step - loss: 8.5815 - mean_squared_error: 8.5815 - val_loss: 8.5722 - val_mean_squared_error: 8.5722\n",
      "Epoch 12/250\n",
      "4195/4195 [==============================] - 1s 178us/step - loss: 8.5580 - mean_squared_error: 8.5580 - val_loss: 8.2425 - val_mean_squared_error: 8.2425\n",
      "Epoch 13/250\n",
      "4195/4195 [==============================] - 1s 187us/step - loss: 8.6380 - mean_squared_error: 8.6380 - val_loss: 9.0266 - val_mean_squared_error: 9.0266\n",
      "Epoch 14/250\n",
      "4195/4195 [==============================] - 1s 179us/step - loss: 8.5958 - mean_squared_error: 8.5958 - val_loss: 8.8515 - val_mean_squared_error: 8.8515\n",
      "Epoch 15/250\n",
      "4195/4195 [==============================] - 1s 182us/step - loss: 8.5112 - mean_squared_error: 8.5112 - val_loss: 8.5293 - val_mean_squared_error: 8.5293\n",
      "Epoch 16/250\n",
      "4195/4195 [==============================] - 1s 176us/step - loss: 8.5116 - mean_squared_error: 8.5116 - val_loss: 8.5361 - val_mean_squared_error: 8.5361\n",
      "Epoch 17/250\n",
      "4195/4195 [==============================] - 1s 180us/step - loss: 8.5250 - mean_squared_error: 8.5250 - val_loss: 8.3124 - val_mean_squared_error: 8.3124\n",
      "Epoch 18/250\n",
      "4195/4195 [==============================] - 1s 184us/step - loss: 8.3243 - mean_squared_error: 8.3243 - val_loss: 8.4173 - val_mean_squared_error: 8.4173\n",
      "Epoch 19/250\n",
      "4195/4195 [==============================] - 1s 181us/step - loss: 8.4441 - mean_squared_error: 8.4441 - val_loss: 8.3683 - val_mean_squared_error: 8.3683\n",
      "Epoch 20/250\n",
      "4195/4195 [==============================] - 1s 175us/step - loss: 8.4305 - mean_squared_error: 8.4305 - val_loss: 8.3928 - val_mean_squared_error: 8.3928\n",
      "Epoch 21/250\n",
      "4195/4195 [==============================] - 1s 181us/step - loss: 8.3729 - mean_squared_error: 8.3729 - val_loss: 8.2110 - val_mean_squared_error: 8.2110\n",
      "Epoch 22/250\n",
      "4195/4195 [==============================] - 1s 181us/step - loss: 8.3823 - mean_squared_error: 8.3823 - val_loss: 8.2236 - val_mean_squared_error: 8.2236\n",
      "Epoch 23/250\n",
      "4195/4195 [==============================] - 1s 178us/step - loss: 8.4458 - mean_squared_error: 8.4458 - val_loss: 8.1170 - val_mean_squared_error: 8.1170\n",
      "Epoch 24/250\n",
      "4195/4195 [==============================] - 1s 178us/step - loss: 8.3405 - mean_squared_error: 8.3405 - val_loss: 8.4480 - val_mean_squared_error: 8.4480\n",
      "Epoch 25/250\n",
      "4195/4195 [==============================] - 1s 176us/step - loss: 8.3360 - mean_squared_error: 8.3360 - val_loss: 8.7654 - val_mean_squared_error: 8.7654\n",
      "Epoch 26/250\n",
      "4195/4195 [==============================] - 1s 180us/step - loss: 8.4098 - mean_squared_error: 8.4098 - val_loss: 8.7490 - val_mean_squared_error: 8.7490\n",
      "Epoch 27/250\n",
      "4195/4195 [==============================] - 1s 174us/step - loss: 8.3829 - mean_squared_error: 8.3829 - val_loss: 8.1809 - val_mean_squared_error: 8.1809\n",
      "Epoch 28/250\n",
      "4195/4195 [==============================] - 1s 183us/step - loss: 8.2620 - mean_squared_error: 8.2620 - val_loss: 8.4028 - val_mean_squared_error: 8.4028\n",
      "Epoch 29/250\n",
      "4195/4195 [==============================] - 1s 178us/step - loss: 8.2541 - mean_squared_error: 8.2541 - val_loss: 8.1252 - val_mean_squared_error: 8.1252\n",
      "Epoch 30/250\n",
      "4195/4195 [==============================] - 1s 182us/step - loss: 8.2019 - mean_squared_error: 8.2019 - val_loss: 8.6349 - val_mean_squared_error: 8.6349\n",
      "Epoch 31/250\n",
      "4195/4195 [==============================] - 1s 181us/step - loss: 8.3303 - mean_squared_error: 8.3303 - val_loss: 8.9737 - val_mean_squared_error: 8.9737\n",
      "Epoch 32/250\n",
      "4195/4195 [==============================] - 1s 180us/step - loss: 8.2119 - mean_squared_error: 8.2119 - val_loss: 8.0012 - val_mean_squared_error: 8.0012\n",
      "Epoch 33/250\n",
      "4195/4195 [==============================] - 1s 182us/step - loss: 8.2542 - mean_squared_error: 8.2542 - val_loss: 8.1071 - val_mean_squared_error: 8.1071\n",
      "Epoch 34/250\n",
      "4195/4195 [==============================] - 1s 185us/step - loss: 8.1943 - mean_squared_error: 8.1943 - val_loss: 8.0209 - val_mean_squared_error: 8.0209\n",
      "Epoch 35/250\n",
      "4195/4195 [==============================] - 1s 179us/step - loss: 8.2819 - mean_squared_error: 8.2819 - val_loss: 8.4036 - val_mean_squared_error: 8.4036\n",
      "Epoch 36/250\n",
      "4195/4195 [==============================] - 1s 181us/step - loss: 8.1253 - mean_squared_error: 8.1253 - val_loss: 7.8112 - val_mean_squared_error: 7.8112\n",
      "Epoch 37/250\n",
      "4195/4195 [==============================] - 1s 183us/step - loss: 8.2083 - mean_squared_error: 8.2083 - val_loss: 8.0200 - val_mean_squared_error: 8.0200\n",
      "Epoch 38/250\n",
      "4195/4195 [==============================] - 1s 185us/step - loss: 8.1974 - mean_squared_error: 8.1974 - val_loss: 8.2125 - val_mean_squared_error: 8.2125\n",
      "Epoch 39/250\n",
      "4195/4195 [==============================] - 1s 175us/step - loss: 8.2556 - mean_squared_error: 8.2556 - val_loss: 7.9989 - val_mean_squared_error: 7.9989\n",
      "Epoch 40/250\n",
      "4195/4195 [==============================] - 1s 183us/step - loss: 8.1777 - mean_squared_error: 8.1777 - val_loss: 8.0146 - val_mean_squared_error: 8.0146\n",
      "Epoch 41/250\n",
      "4195/4195 [==============================] - 1s 183us/step - loss: 8.2157 - mean_squared_error: 8.2157 - val_loss: 8.0700 - val_mean_squared_error: 8.0700\n",
      "Epoch 42/250\n",
      "4195/4195 [==============================] - 1s 184us/step - loss: 8.1427 - mean_squared_error: 8.1427 - val_loss: 8.4575 - val_mean_squared_error: 8.4575\n",
      "Epoch 43/250\n",
      "4195/4195 [==============================] - 1s 179us/step - loss: 8.1360 - mean_squared_error: 8.1360 - val_loss: 8.0494 - val_mean_squared_error: 8.0494\n",
      "Epoch 44/250\n",
      "4195/4195 [==============================] - 1s 185us/step - loss: 8.2748 - mean_squared_error: 8.2748 - val_loss: 8.0414 - val_mean_squared_error: 8.0414\n",
      "Epoch 45/250\n",
      "4195/4195 [==============================] - 1s 185us/step - loss: 8.1899 - mean_squared_error: 8.1899 - val_loss: 8.0191 - val_mean_squared_error: 8.0191\n",
      "Epoch 46/250\n",
      "4195/4195 [==============================] - 1s 183us/step - loss: 8.1313 - mean_squared_error: 8.1313 - val_loss: 8.2658 - val_mean_squared_error: 8.2658\n",
      "Epoch 47/250\n",
      "4195/4195 [==============================] - 1s 183us/step - loss: 8.1642 - mean_squared_error: 8.1642 - val_loss: 7.8850 - val_mean_squared_error: 7.8850\n",
      "Epoch 48/250\n",
      "4195/4195 [==============================] - 1s 181us/step - loss: 8.1949 - mean_squared_error: 8.1949 - val_loss: 8.0121 - val_mean_squared_error: 8.0121\n",
      "Epoch 49/250\n",
      "4195/4195 [==============================] - 1s 182us/step - loss: 8.1433 - mean_squared_error: 8.1433 - val_loss: 7.7478 - val_mean_squared_error: 7.7478\n",
      "Epoch 50/250\n",
      "4195/4195 [==============================] - 1s 181us/step - loss: 8.1256 - mean_squared_error: 8.1256 - val_loss: 7.8408 - val_mean_squared_error: 7.8408\n",
      "Epoch 51/250\n",
      "4195/4195 [==============================] - 1s 179us/step - loss: 8.1190 - mean_squared_error: 8.1190 - val_loss: 8.0362 - val_mean_squared_error: 8.0362\n",
      "Epoch 52/250\n",
      "4195/4195 [==============================] - 1s 186us/step - loss: 8.2160 - mean_squared_error: 8.2160 - val_loss: 8.8148 - val_mean_squared_error: 8.8148\n",
      "Epoch 53/250\n",
      "4195/4195 [==============================] - 1s 182us/step - loss: 8.1709 - mean_squared_error: 8.1709 - val_loss: 8.3983 - val_mean_squared_error: 8.3983\n",
      "Epoch 54/250\n",
      "4195/4195 [==============================] - 1s 184us/step - loss: 8.0651 - mean_squared_error: 8.0651 - val_loss: 8.2243 - val_mean_squared_error: 8.2243\n",
      "Epoch 55/250\n",
      "4195/4195 [==============================] - 1s 178us/step - loss: 8.0907 - mean_squared_error: 8.0907 - val_loss: 8.3579 - val_mean_squared_error: 8.3579\n",
      "Epoch 56/250\n",
      "4195/4195 [==============================] - 1s 184us/step - loss: 8.0379 - mean_squared_error: 8.0379 - val_loss: 9.1879 - val_mean_squared_error: 9.1879\n",
      "Epoch 57/250\n",
      "4195/4195 [==============================] - 1s 182us/step - loss: 8.1823 - mean_squared_error: 8.1823 - val_loss: 7.9684 - val_mean_squared_error: 7.9684\n",
      "Epoch 58/250\n",
      "4195/4195 [==============================] - 1s 186us/step - loss: 8.2474 - mean_squared_error: 8.2474 - val_loss: 8.9823 - val_mean_squared_error: 8.9823\n",
      "Epoch 59/250\n",
      "4195/4195 [==============================] - 1s 179us/step - loss: 8.1917 - mean_squared_error: 8.1917 - val_loss: 8.0114 - val_mean_squared_error: 8.0114\n",
      "Epoch 60/250\n",
      "4195/4195 [==============================] - 1s 183us/step - loss: 8.2074 - mean_squared_error: 8.2074 - val_loss: 7.7998 - val_mean_squared_error: 7.7998\n",
      "Epoch 61/250\n",
      "4195/4195 [==============================] - 1s 182us/step - loss: 8.0105 - mean_squared_error: 8.0105 - val_loss: 9.1275 - val_mean_squared_error: 9.1275\n",
      "Epoch 62/250\n",
      "4195/4195 [==============================] - 1s 184us/step - loss: 8.0826 - mean_squared_error: 8.0826 - val_loss: 8.4476 - val_mean_squared_error: 8.4476\n",
      "Epoch 63/250\n",
      "4195/4195 [==============================] - 1s 181us/step - loss: 8.0649 - mean_squared_error: 8.0649 - val_loss: 8.4104 - val_mean_squared_error: 8.4104\n",
      "Epoch 64/250\n",
      "4195/4195 [==============================] - 1s 180us/step - loss: 8.1081 - mean_squared_error: 8.1081 - val_loss: 9.8835 - val_mean_squared_error: 9.8835\n",
      "Epoch 65/250\n",
      "4195/4195 [==============================] - 1s 181us/step - loss: 9.3656 - mean_squared_error: 9.3656 - val_loss: 13.7403 - val_mean_squared_error: 13.7403\n",
      "Epoch 66/250\n",
      "4195/4195 [==============================] - 1s 183us/step - loss: 8.7762 - mean_squared_error: 8.7762 - val_loss: 10.7507 - val_mean_squared_error: 10.7507\n",
      "Epoch 67/250\n",
      "4195/4195 [==============================] - 1s 182us/step - loss: 8.5746 - mean_squared_error: 8.5746 - val_loss: 9.2165 - val_mean_squared_error: 9.2165\n",
      "Epoch 68/250\n",
      "4195/4195 [==============================] - 1s 183us/step - loss: 8.3950 - mean_squared_error: 8.3950 - val_loss: 8.4923 - val_mean_squared_error: 8.4923\n",
      "Epoch 69/250\n",
      "4195/4195 [==============================] - 1s 184us/step - loss: 8.3202 - mean_squared_error: 8.3202 - val_loss: 9.4247 - val_mean_squared_error: 9.4247\n",
      "Epoch 70/250\n",
      "4195/4195 [==============================] - 1s 179us/step - loss: 8.3391 - mean_squared_error: 8.3391 - val_loss: 10.1122 - val_mean_squared_error: 10.1122\n",
      "Epoch 71/250\n",
      "4195/4195 [==============================] - 1s 182us/step - loss: 8.3409 - mean_squared_error: 8.3409 - val_loss: 10.1998 - val_mean_squared_error: 10.1998\n",
      "Epoch 72/250\n",
      "4195/4195 [==============================] - 1s 182us/step - loss: 8.2781 - mean_squared_error: 8.2781 - val_loss: 11.4460 - val_mean_squared_error: 11.4460\n",
      "Epoch 73/250\n",
      "4195/4195 [==============================] - 1s 183us/step - loss: 8.3081 - mean_squared_error: 8.3081 - val_loss: 11.4442 - val_mean_squared_error: 11.4442\n",
      "Epoch 74/250\n",
      "4195/4195 [==============================] - 1s 184us/step - loss: 8.2425 - mean_squared_error: 8.2425 - val_loss: 12.0057 - val_mean_squared_error: 12.0057\n",
      "Epoch 75/250\n",
      "4195/4195 [==============================] - 1s 185us/step - loss: 8.3423 - mean_squared_error: 8.3423 - val_loss: 11.6087 - val_mean_squared_error: 11.6087\n",
      "Epoch 76/250\n",
      "4195/4195 [==============================] - 1s 181us/step - loss: 8.1957 - mean_squared_error: 8.1957 - val_loss: 10.7376 - val_mean_squared_error: 10.7376\n",
      "Epoch 77/250\n",
      "4195/4195 [==============================] - 1s 181us/step - loss: 8.1671 - mean_squared_error: 8.1671 - val_loss: 10.5968 - val_mean_squared_error: 10.5968\n",
      "Epoch 78/250\n",
      "4195/4195 [==============================] - 1s 178us/step - loss: 8.2079 - mean_squared_error: 8.2079 - val_loss: 10.4013 - val_mean_squared_error: 10.4013\n",
      "Epoch 79/250\n",
      "4195/4195 [==============================] - 1s 183us/step - loss: 8.1500 - mean_squared_error: 8.1500 - val_loss: 10.3957 - val_mean_squared_error: 10.3957\n",
      "Epoch 80/250\n",
      "4195/4195 [==============================] - 1s 182us/step - loss: 8.2009 - mean_squared_error: 8.2009 - val_loss: 10.0242 - val_mean_squared_error: 10.0242\n",
      "Epoch 81/250\n",
      "4195/4195 [==============================] - 1s 181us/step - loss: 8.2315 - mean_squared_error: 8.2315 - val_loss: 11.1960 - val_mean_squared_error: 11.1960\n",
      "Epoch 82/250\n",
      "4195/4195 [==============================] - 1s 185us/step - loss: 8.1959 - mean_squared_error: 8.1959 - val_loss: 9.4827 - val_mean_squared_error: 9.4827\n",
      "Epoch 83/250\n",
      "4195/4195 [==============================] - 1s 184us/step - loss: 8.2837 - mean_squared_error: 8.2837 - val_loss: 10.5839 - val_mean_squared_error: 10.5839\n",
      "Epoch 84/250\n",
      "4195/4195 [==============================] - 1s 183us/step - loss: 8.1247 - mean_squared_error: 8.1247 - val_loss: 10.4742 - val_mean_squared_error: 10.4742\n",
      "Epoch 85/250\n",
      "4195/4195 [==============================] - 1s 185us/step - loss: 8.1647 - mean_squared_error: 8.1647 - val_loss: 10.7714 - val_mean_squared_error: 10.7714\n",
      "Epoch 86/250\n",
      "4195/4195 [==============================] - 1s 180us/step - loss: 8.0572 - mean_squared_error: 8.0572 - val_loss: 10.4395 - val_mean_squared_error: 10.4395\n",
      "Epoch 87/250\n",
      "4195/4195 [==============================] - 1s 181us/step - loss: 8.1289 - mean_squared_error: 8.1289 - val_loss: 10.4173 - val_mean_squared_error: 10.4173\n",
      "Epoch 88/250\n",
      "4195/4195 [==============================] - 1s 185us/step - loss: 8.1140 - mean_squared_error: 8.1140 - val_loss: 11.6522 - val_mean_squared_error: 11.6522\n",
      "Epoch 89/250\n",
      "4195/4195 [==============================] - 1s 182us/step - loss: 8.2069 - mean_squared_error: 8.2069 - val_loss: 10.7403 - val_mean_squared_error: 10.7403\n",
      "Epoch 90/250\n",
      "4195/4195 [==============================] - 1s 183us/step - loss: 8.1481 - mean_squared_error: 8.1481 - val_loss: 10.5004 - val_mean_squared_error: 10.5004\n",
      "Epoch 91/250\n",
      "4195/4195 [==============================] - 1s 185us/step - loss: 8.1404 - mean_squared_error: 8.1404 - val_loss: 11.5990 - val_mean_squared_error: 11.5990\n",
      "Epoch 92/250\n",
      "4195/4195 [==============================] - 1s 186us/step - loss: 8.1689 - mean_squared_error: 8.1689 - val_loss: 10.1241 - val_mean_squared_error: 10.1241\n",
      "Epoch 93/250\n",
      "4195/4195 [==============================] - 1s 186us/step - loss: 8.1892 - mean_squared_error: 8.1892 - val_loss: 10.3062 - val_mean_squared_error: 10.3062\n",
      "Epoch 94/250\n",
      "4195/4195 [==============================] - 1s 185us/step - loss: 8.0398 - mean_squared_error: 8.0398 - val_loss: 9.6692 - val_mean_squared_error: 9.6692\n",
      "Epoch 95/250\n",
      "4195/4195 [==============================] - 1s 183us/step - loss: 8.2072 - mean_squared_error: 8.2072 - val_loss: 10.1709 - val_mean_squared_error: 10.1709\n",
      "Epoch 96/250\n",
      "4195/4195 [==============================] - 1s 190us/step - loss: 8.1708 - mean_squared_error: 8.1708 - val_loss: 10.1733 - val_mean_squared_error: 10.1733\n",
      "Epoch 97/250\n",
      "4195/4195 [==============================] - 1s 194us/step - loss: 8.1616 - mean_squared_error: 8.1616 - val_loss: 9.9724 - val_mean_squared_error: 9.9724\n",
      "Epoch 98/250\n",
      "4195/4195 [==============================] - 1s 183us/step - loss: 8.0530 - mean_squared_error: 8.0530 - val_loss: 10.4879 - val_mean_squared_error: 10.4879\n",
      "Epoch 99/250\n",
      "4195/4195 [==============================] - 1s 187us/step - loss: 8.0691 - mean_squared_error: 8.0691 - val_loss: 10.0911 - val_mean_squared_error: 10.0911\n",
      "Epoch 100/250\n",
      "4195/4195 [==============================] - 1s 180us/step - loss: 8.1677 - mean_squared_error: 8.1677 - val_loss: 9.7680 - val_mean_squared_error: 9.7680\n",
      "Epoch 101/250\n",
      "4195/4195 [==============================] - 1s 181us/step - loss: 8.1142 - mean_squared_error: 8.1142 - val_loss: 9.4411 - val_mean_squared_error: 9.4411\n",
      "Epoch 102/250\n",
      "4195/4195 [==============================] - 1s 180us/step - loss: 8.2047 - mean_squared_error: 8.2047 - val_loss: 9.2497 - val_mean_squared_error: 9.2497\n",
      "Epoch 103/250\n",
      "4195/4195 [==============================] - 1s 180us/step - loss: 8.1497 - mean_squared_error: 8.1497 - val_loss: 8.7956 - val_mean_squared_error: 8.7956\n",
      "Epoch 104/250\n",
      "4195/4195 [==============================] - 1s 180us/step - loss: 8.1253 - mean_squared_error: 8.1253 - val_loss: 8.7331 - val_mean_squared_error: 8.7331\n",
      "Epoch 105/250\n",
      "4195/4195 [==============================] - 1s 179us/step - loss: 8.1682 - mean_squared_error: 8.1682 - val_loss: 9.9320 - val_mean_squared_error: 9.9320\n",
      "Epoch 106/250\n",
      "4195/4195 [==============================] - 1s 178us/step - loss: 8.0778 - mean_squared_error: 8.0778 - val_loss: 9.0002 - val_mean_squared_error: 9.0002\n",
      "Epoch 107/250\n",
      "4195/4195 [==============================] - 1s 184us/step - loss: 8.2501 - mean_squared_error: 8.2501 - val_loss: 8.8086 - val_mean_squared_error: 8.8086\n",
      "Epoch 108/250\n",
      "4195/4195 [==============================] - 1s 182us/step - loss: 8.0456 - mean_squared_error: 8.0456 - val_loss: 9.3126 - val_mean_squared_error: 9.3126\n",
      "Epoch 109/250\n",
      "4195/4195 [==============================] - 1s 187us/step - loss: 8.2295 - mean_squared_error: 8.2295 - val_loss: 8.8355 - val_mean_squared_error: 8.8355\n",
      "Epoch 110/250\n",
      "4195/4195 [==============================] - 1s 180us/step - loss: 8.0008 - mean_squared_error: 8.0008 - val_loss: 8.5132 - val_mean_squared_error: 8.5132\n",
      "Epoch 111/250\n",
      "4195/4195 [==============================] - 1s 180us/step - loss: 8.1408 - mean_squared_error: 8.1408 - val_loss: 8.6700 - val_mean_squared_error: 8.6700\n",
      "Epoch 112/250\n",
      "4195/4195 [==============================] - 1s 185us/step - loss: 8.0052 - mean_squared_error: 8.0052 - val_loss: 8.7497 - val_mean_squared_error: 8.7497\n",
      "Epoch 113/250\n",
      "4195/4195 [==============================] - 1s 185us/step - loss: 8.1715 - mean_squared_error: 8.1715 - val_loss: 8.8020 - val_mean_squared_error: 8.8020\n",
      "Epoch 114/250\n",
      "4195/4195 [==============================] - 1s 180us/step - loss: 8.0951 - mean_squared_error: 8.0951 - val_loss: 8.8425 - val_mean_squared_error: 8.8425\n",
      "Epoch 115/250\n",
      "4195/4195 [==============================] - 1s 183us/step - loss: 8.0774 - mean_squared_error: 8.0774 - val_loss: 8.7923 - val_mean_squared_error: 8.7923\n",
      "Epoch 116/250\n",
      "4195/4195 [==============================] - 1s 186us/step - loss: 8.1349 - mean_squared_error: 8.1349 - val_loss: 10.6691 - val_mean_squared_error: 10.6691\n",
      "Epoch 117/250\n",
      "4195/4195 [==============================] - 1s 186us/step - loss: 8.0772 - mean_squared_error: 8.0772 - val_loss: 9.1168 - val_mean_squared_error: 9.1168\n",
      "Epoch 118/250\n",
      "4195/4195 [==============================] - 1s 182us/step - loss: 8.0480 - mean_squared_error: 8.0480 - val_loss: 8.7365 - val_mean_squared_error: 8.7365\n",
      "Epoch 119/250\n",
      "4195/4195 [==============================] - 1s 184us/step - loss: 8.1007 - mean_squared_error: 8.1007 - val_loss: 8.4749 - val_mean_squared_error: 8.4749\n",
      "Epoch 120/250\n",
      "4195/4195 [==============================] - 1s 181us/step - loss: 8.1234 - mean_squared_error: 8.1234 - val_loss: 8.2550 - val_mean_squared_error: 8.2550\n",
      "Epoch 121/250\n",
      "4195/4195 [==============================] - 1s 183us/step - loss: 8.0436 - mean_squared_error: 8.0436 - val_loss: 8.3120 - val_mean_squared_error: 8.3120\n",
      "Epoch 122/250\n",
      "4195/4195 [==============================] - 1s 192us/step - loss: 8.1101 - mean_squared_error: 8.1101 - val_loss: 8.6963 - val_mean_squared_error: 8.6963\n",
      "Epoch 123/250\n",
      "4195/4195 [==============================] - 1s 186us/step - loss: 8.1488 - mean_squared_error: 8.1488 - val_loss: 8.5908 - val_mean_squared_error: 8.5908\n",
      "Epoch 124/250\n",
      "4195/4195 [==============================] - 1s 193us/step - loss: 8.1691 - mean_squared_error: 8.1691 - val_loss: 10.0147 - val_mean_squared_error: 10.0147\n",
      "Epoch 125/250\n",
      "4195/4195 [==============================] - 1s 190us/step - loss: 8.1645 - mean_squared_error: 8.1645 - val_loss: 8.8101 - val_mean_squared_error: 8.8101\n",
      "Epoch 126/250\n",
      "4195/4195 [==============================] - 1s 187us/step - loss: 8.1113 - mean_squared_error: 8.1113 - val_loss: 8.2349 - val_mean_squared_error: 8.2349\n",
      "Epoch 127/250\n",
      "4195/4195 [==============================] - 1s 189us/step - loss: 8.0939 - mean_squared_error: 8.0939 - val_loss: 8.3600 - val_mean_squared_error: 8.3600\n",
      "Epoch 128/250\n",
      "4195/4195 [==============================] - 1s 190us/step - loss: 8.1837 - mean_squared_error: 8.1837 - val_loss: 8.3343 - val_mean_squared_error: 8.3343\n",
      "Epoch 129/250\n",
      "4195/4195 [==============================] - 1s 188us/step - loss: 8.0886 - mean_squared_error: 8.0886 - val_loss: 8.8517 - val_mean_squared_error: 8.8517\n",
      "Epoch 130/250\n",
      "4195/4195 [==============================] - 1s 189us/step - loss: 8.2026 - mean_squared_error: 8.2026 - val_loss: 8.1786 - val_mean_squared_error: 8.1786\n",
      "Epoch 131/250\n",
      "4195/4195 [==============================] - 1s 186us/step - loss: 8.1135 - mean_squared_error: 8.1135 - val_loss: 8.1900 - val_mean_squared_error: 8.1900\n",
      "Epoch 132/250\n",
      "4195/4195 [==============================] - 1s 195us/step - loss: 8.0054 - mean_squared_error: 8.0054 - val_loss: 7.9700 - val_mean_squared_error: 7.9700\n",
      "Epoch 133/250\n",
      "4195/4195 [==============================] - 1s 189us/step - loss: 8.0148 - mean_squared_error: 8.0148 - val_loss: 8.0731 - val_mean_squared_error: 8.0731\n",
      "Epoch 134/250\n",
      "4195/4195 [==============================] - 1s 191us/step - loss: 8.2290 - mean_squared_error: 8.2290 - val_loss: 8.1055 - val_mean_squared_error: 8.1055\n",
      "Epoch 135/250\n",
      "4195/4195 [==============================] - 1s 182us/step - loss: 8.0716 - mean_squared_error: 8.0716 - val_loss: 8.1226 - val_mean_squared_error: 8.1226\n",
      "Epoch 136/250\n",
      "4195/4195 [==============================] - 1s 190us/step - loss: 7.9729 - mean_squared_error: 7.9729 - val_loss: 8.8821 - val_mean_squared_error: 8.8821\n",
      "Epoch 137/250\n",
      "4195/4195 [==============================] - 1s 191us/step - loss: 8.0452 - mean_squared_error: 8.0452 - val_loss: 8.0311 - val_mean_squared_error: 8.0311\n",
      "Epoch 138/250\n",
      "4195/4195 [==============================] - 1s 185us/step - loss: 8.1446 - mean_squared_error: 8.1446 - val_loss: 7.8710 - val_mean_squared_error: 7.8710\n",
      "Epoch 139/250\n",
      "4195/4195 [==============================] - 1s 187us/step - loss: 8.0256 - mean_squared_error: 8.0256 - val_loss: 7.8967 - val_mean_squared_error: 7.8967\n",
      "Epoch 140/250\n",
      "4195/4195 [==============================] - 1s 186us/step - loss: 8.1345 - mean_squared_error: 8.1345 - val_loss: 8.0642 - val_mean_squared_error: 8.0642\n",
      "Epoch 141/250\n",
      "4195/4195 [==============================] - 1s 190us/step - loss: 7.9755 - mean_squared_error: 7.9755 - val_loss: 8.0843 - val_mean_squared_error: 8.0843\n",
      "Epoch 142/250\n",
      "4195/4195 [==============================] - 1s 191us/step - loss: 8.0056 - mean_squared_error: 8.0056 - val_loss: 7.8549 - val_mean_squared_error: 7.8549\n",
      "Epoch 143/250\n",
      "4195/4195 [==============================] - 1s 184us/step - loss: 8.0875 - mean_squared_error: 8.0875 - val_loss: 8.0051 - val_mean_squared_error: 8.0051\n",
      "Epoch 144/250\n",
      "4195/4195 [==============================] - 1s 180us/step - loss: 8.1008 - mean_squared_error: 8.1008 - val_loss: 7.8169 - val_mean_squared_error: 7.8169\n",
      "Epoch 145/250\n",
      "4195/4195 [==============================] - 1s 189us/step - loss: 8.0402 - mean_squared_error: 8.0402 - val_loss: 7.8984 - val_mean_squared_error: 7.8984\n",
      "Epoch 146/250\n",
      "4195/4195 [==============================] - 1s 182us/step - loss: 8.0522 - mean_squared_error: 8.0522 - val_loss: 8.2661 - val_mean_squared_error: 8.2661\n",
      "Epoch 147/250\n",
      "4195/4195 [==============================] - 1s 183us/step - loss: 8.0408 - mean_squared_error: 8.0408 - val_loss: 8.1678 - val_mean_squared_error: 8.1678\n",
      "Epoch 148/250\n",
      "4195/4195 [==============================] - 1s 185us/step - loss: 8.1444 - mean_squared_error: 8.1444 - val_loss: 7.8838 - val_mean_squared_error: 7.8838\n",
      "Epoch 149/250\n",
      "4195/4195 [==============================] - 1s 182us/step - loss: 8.0855 - mean_squared_error: 8.0855 - val_loss: 8.0293 - val_mean_squared_error: 8.0293\n",
      "Epoch 150/250\n",
      "4195/4195 [==============================] - 1s 184us/step - loss: 7.9842 - mean_squared_error: 7.9842 - val_loss: 8.2839 - val_mean_squared_error: 8.2839\n",
      "Epoch 151/250\n",
      "4195/4195 [==============================] - 1s 181us/step - loss: 8.1059 - mean_squared_error: 8.1059 - val_loss: 9.0391 - val_mean_squared_error: 9.0391\n",
      "Epoch 152/250\n",
      "4195/4195 [==============================] - 1s 182us/step - loss: 8.0775 - mean_squared_error: 8.0775 - val_loss: 7.9816 - val_mean_squared_error: 7.9816\n",
      "Epoch 153/250\n",
      "4195/4195 [==============================] - 1s 185us/step - loss: 8.0085 - mean_squared_error: 8.0085 - val_loss: 8.3309 - val_mean_squared_error: 8.3309\n",
      "Epoch 154/250\n",
      "4195/4195 [==============================] - 1s 181us/step - loss: 8.0070 - mean_squared_error: 8.0070 - val_loss: 8.6228 - val_mean_squared_error: 8.6228\n",
      "Epoch 155/250\n",
      "4195/4195 [==============================] - 1s 184us/step - loss: 7.9982 - mean_squared_error: 7.9982 - val_loss: 8.1797 - val_mean_squared_error: 8.1797\n",
      "Epoch 156/250\n",
      "4195/4195 [==============================] - 1s 179us/step - loss: 8.0260 - mean_squared_error: 8.0260 - val_loss: 8.2047 - val_mean_squared_error: 8.2047\n",
      "Epoch 157/250\n",
      "4195/4195 [==============================] - 1s 181us/step - loss: 8.0923 - mean_squared_error: 8.0923 - val_loss: 8.1597 - val_mean_squared_error: 8.1597\n",
      "Epoch 158/250\n",
      "4195/4195 [==============================] - 1s 183us/step - loss: 8.1255 - mean_squared_error: 8.1255 - val_loss: 8.0249 - val_mean_squared_error: 8.0249\n",
      "Epoch 159/250\n",
      "4195/4195 [==============================] - 1s 185us/step - loss: 7.9905 - mean_squared_error: 7.9905 - val_loss: 7.9046 - val_mean_squared_error: 7.9046\n",
      "Epoch 160/250\n",
      "4195/4195 [==============================] - 1s 181us/step - loss: 8.1785 - mean_squared_error: 8.1785 - val_loss: 8.0413 - val_mean_squared_error: 8.0413\n",
      "Epoch 161/250\n",
      "4195/4195 [==============================] - 1s 182us/step - loss: 8.1285 - mean_squared_error: 8.1285 - val_loss: 9.0572 - val_mean_squared_error: 9.0572\n",
      "Epoch 162/250\n",
      "4195/4195 [==============================] - 1s 178us/step - loss: 8.0118 - mean_squared_error: 8.0118 - val_loss: 7.7739 - val_mean_squared_error: 7.7739\n",
      "Epoch 163/250\n",
      "4195/4195 [==============================] - 1s 185us/step - loss: 8.1535 - mean_squared_error: 8.1535 - val_loss: 7.9183 - val_mean_squared_error: 7.9183\n",
      "Epoch 164/250\n",
      "4195/4195 [==============================] - 1s 183us/step - loss: 8.0037 - mean_squared_error: 8.0037 - val_loss: 7.9453 - val_mean_squared_error: 7.9453\n",
      "Epoch 165/250\n",
      "4195/4195 [==============================] - 1s 182us/step - loss: 8.0227 - mean_squared_error: 8.0227 - val_loss: 7.8652 - val_mean_squared_error: 7.8652\n",
      "Epoch 166/250\n",
      "4195/4195 [==============================] - 1s 184us/step - loss: 7.9881 - mean_squared_error: 7.9881 - val_loss: 7.7621 - val_mean_squared_error: 7.7621\n",
      "Epoch 167/250\n",
      "4195/4195 [==============================] - 1s 182us/step - loss: 7.9527 - mean_squared_error: 7.9527 - val_loss: 8.1645 - val_mean_squared_error: 8.1645\n",
      "Epoch 168/250\n",
      "4195/4195 [==============================] - 1s 178us/step - loss: 7.9604 - mean_squared_error: 7.9604 - val_loss: 8.2657 - val_mean_squared_error: 8.2657\n",
      "Epoch 169/250\n",
      "4195/4195 [==============================] - 1s 181us/step - loss: 7.9686 - mean_squared_error: 7.9686 - val_loss: 8.0431 - val_mean_squared_error: 8.0431\n",
      "Epoch 170/250\n",
      "4195/4195 [==============================] - 1s 182us/step - loss: 8.0478 - mean_squared_error: 8.0478 - val_loss: 7.9784 - val_mean_squared_error: 7.9784\n",
      "Epoch 171/250\n",
      "4195/4195 [==============================] - 1s 178us/step - loss: 8.1009 - mean_squared_error: 8.1009 - val_loss: 7.8920 - val_mean_squared_error: 7.8920\n",
      "Epoch 172/250\n",
      "4195/4195 [==============================] - 1s 182us/step - loss: 8.0615 - mean_squared_error: 8.0615 - val_loss: 7.9765 - val_mean_squared_error: 7.9765\n",
      "Epoch 173/250\n",
      "4195/4195 [==============================] - 1s 180us/step - loss: 8.0171 - mean_squared_error: 8.0171 - val_loss: 7.8145 - val_mean_squared_error: 7.8145\n",
      "Epoch 174/250\n",
      "4195/4195 [==============================] - 1s 182us/step - loss: 8.1376 - mean_squared_error: 8.1376 - val_loss: 8.8481 - val_mean_squared_error: 8.8481\n",
      "Epoch 175/250\n",
      "4195/4195 [==============================] - 1s 182us/step - loss: 8.0542 - mean_squared_error: 8.0542 - val_loss: 8.6595 - val_mean_squared_error: 8.6595\n",
      "Epoch 176/250\n",
      "4195/4195 [==============================] - 1s 183us/step - loss: 8.0639 - mean_squared_error: 8.0639 - val_loss: 7.8958 - val_mean_squared_error: 7.8958\n",
      "Epoch 177/250\n",
      "4195/4195 [==============================] - 1s 183us/step - loss: 8.0024 - mean_squared_error: 8.0024 - val_loss: 7.7127 - val_mean_squared_error: 7.7127\n",
      "Epoch 178/250\n",
      "4195/4195 [==============================] - 1s 184us/step - loss: 8.0628 - mean_squared_error: 8.0628 - val_loss: 7.9159 - val_mean_squared_error: 7.9159\n",
      "Epoch 179/250\n",
      "4195/4195 [==============================] - 1s 183us/step - loss: 8.2164 - mean_squared_error: 8.2164 - val_loss: 7.7196 - val_mean_squared_error: 7.7196\n",
      "Epoch 180/250\n",
      "4195/4195 [==============================] - 1s 184us/step - loss: 8.0852 - mean_squared_error: 8.0852 - val_loss: 8.9848 - val_mean_squared_error: 8.9848\n",
      "Epoch 181/250\n",
      "4195/4195 [==============================] - 1s 181us/step - loss: 7.9864 - mean_squared_error: 7.9864 - val_loss: 8.1927 - val_mean_squared_error: 8.1927\n",
      "Epoch 182/250\n",
      "4195/4195 [==============================] - 1s 184us/step - loss: 7.9975 - mean_squared_error: 7.9975 - val_loss: 8.1316 - val_mean_squared_error: 8.1316\n",
      "Epoch 183/250\n",
      "4195/4195 [==============================] - 1s 182us/step - loss: 8.1207 - mean_squared_error: 8.1207 - val_loss: 7.7819 - val_mean_squared_error: 7.7819\n",
      "Epoch 184/250\n",
      "4195/4195 [==============================] - 1s 182us/step - loss: 7.8972 - mean_squared_error: 7.8972 - val_loss: 8.3935 - val_mean_squared_error: 8.3935\n",
      "Epoch 185/250\n",
      "4195/4195 [==============================] - 1s 185us/step - loss: 8.0714 - mean_squared_error: 8.0714 - val_loss: 8.5722 - val_mean_squared_error: 8.5722\n",
      "Epoch 186/250\n",
      "4195/4195 [==============================] - 1s 184us/step - loss: 8.1458 - mean_squared_error: 8.1458 - val_loss: 7.8802 - val_mean_squared_error: 7.8802\n",
      "Epoch 187/250\n",
      "4195/4195 [==============================] - 1s 179us/step - loss: 7.9572 - mean_squared_error: 7.9572 - val_loss: 8.2563 - val_mean_squared_error: 8.2563\n",
      "Epoch 188/250\n",
      "4195/4195 [==============================] - 1s 183us/step - loss: 8.1104 - mean_squared_error: 8.1104 - val_loss: 7.7463 - val_mean_squared_error: 7.7463\n",
      "Epoch 189/250\n",
      "4195/4195 [==============================] - 1s 184us/step - loss: 8.0086 - mean_squared_error: 8.0086 - val_loss: 8.7589 - val_mean_squared_error: 8.7589\n",
      "Epoch 190/250\n",
      "4195/4195 [==============================] - 1s 183us/step - loss: 8.1356 - mean_squared_error: 8.1356 - val_loss: 7.9538 - val_mean_squared_error: 7.9538\n",
      "Epoch 191/250\n",
      "4195/4195 [==============================] - 1s 181us/step - loss: 8.0359 - mean_squared_error: 8.0359 - val_loss: 8.0477 - val_mean_squared_error: 8.0477\n",
      "Epoch 192/250\n",
      "4195/4195 [==============================] - 1s 185us/step - loss: 8.0000 - mean_squared_error: 8.0000 - val_loss: 8.3129 - val_mean_squared_error: 8.3129\n",
      "Epoch 193/250\n",
      "4195/4195 [==============================] - 1s 183us/step - loss: 8.1140 - mean_squared_error: 8.1140 - val_loss: 8.1776 - val_mean_squared_error: 8.1776\n",
      "Epoch 194/250\n",
      "4195/4195 [==============================] - 1s 183us/step - loss: 8.0876 - mean_squared_error: 8.0876 - val_loss: 7.9595 - val_mean_squared_error: 7.9595\n",
      "Epoch 195/250\n",
      "4195/4195 [==============================] - 1s 178us/step - loss: 8.1044 - mean_squared_error: 8.1044 - val_loss: 8.6707 - val_mean_squared_error: 8.6707\n",
      "Epoch 196/250\n",
      "4195/4195 [==============================] - 1s 183us/step - loss: 8.0793 - mean_squared_error: 8.0793 - val_loss: 7.7308 - val_mean_squared_error: 7.7308\n",
      "Epoch 197/250\n",
      "4195/4195 [==============================] - 1s 181us/step - loss: 7.9999 - mean_squared_error: 7.9999 - val_loss: 7.7024 - val_mean_squared_error: 7.7024\n",
      "Epoch 198/250\n",
      "4195/4195 [==============================] - 1s 181us/step - loss: 7.9846 - mean_squared_error: 7.9846 - val_loss: 8.1101 - val_mean_squared_error: 8.1101\n",
      "Epoch 199/250\n",
      "4195/4195 [==============================] - 1s 175us/step - loss: 8.1194 - mean_squared_error: 8.1194 - val_loss: 7.8991 - val_mean_squared_error: 7.8991\n",
      "Epoch 200/250\n",
      "4195/4195 [==============================] - 1s 187us/step - loss: 7.9336 - mean_squared_error: 7.9336 - val_loss: 7.6884 - val_mean_squared_error: 7.6884\n",
      "Epoch 201/250\n",
      "4195/4195 [==============================] - 1s 180us/step - loss: 8.0375 - mean_squared_error: 8.0375 - val_loss: 7.9617 - val_mean_squared_error: 7.9617\n",
      "Epoch 202/250\n",
      "4195/4195 [==============================] - 1s 183us/step - loss: 8.0550 - mean_squared_error: 8.0550 - val_loss: 7.9837 - val_mean_squared_error: 7.9837\n",
      "Epoch 203/250\n",
      "4195/4195 [==============================] - 1s 179us/step - loss: 7.9189 - mean_squared_error: 7.9189 - val_loss: 7.7819 - val_mean_squared_error: 7.7819\n",
      "Epoch 204/250\n",
      "4195/4195 [==============================] - 1s 181us/step - loss: 7.9945 - mean_squared_error: 7.9945 - val_loss: 7.7392 - val_mean_squared_error: 7.7392\n",
      "Epoch 205/250\n",
      "4195/4195 [==============================] - 1s 182us/step - loss: 8.0094 - mean_squared_error: 8.0094 - val_loss: 7.7037 - val_mean_squared_error: 7.7037\n",
      "Epoch 206/250\n",
      "4195/4195 [==============================] - 1s 180us/step - loss: 8.0643 - mean_squared_error: 8.0643 - val_loss: 7.8478 - val_mean_squared_error: 7.8478\n",
      "Epoch 207/250\n",
      "4195/4195 [==============================] - 1s 179us/step - loss: 8.0035 - mean_squared_error: 8.0035 - val_loss: 9.6871 - val_mean_squared_error: 9.6871\n",
      "Epoch 208/250\n",
      "4195/4195 [==============================] - 1s 184us/step - loss: 8.0161 - mean_squared_error: 8.0161 - val_loss: 7.8261 - val_mean_squared_error: 7.8261\n",
      "Epoch 209/250\n",
      "4195/4195 [==============================] - 1s 182us/step - loss: 8.1173 - mean_squared_error: 8.1173 - val_loss: 7.7310 - val_mean_squared_error: 7.7310\n",
      "Epoch 210/250\n",
      "4195/4195 [==============================] - 1s 180us/step - loss: 7.9909 - mean_squared_error: 7.9909 - val_loss: 7.7423 - val_mean_squared_error: 7.7423\n",
      "Epoch 211/250\n",
      "4195/4195 [==============================] - 1s 182us/step - loss: 8.0281 - mean_squared_error: 8.0281 - val_loss: 7.7827 - val_mean_squared_error: 7.7827\n",
      "Epoch 212/250\n",
      "4195/4195 [==============================] - 1s 184us/step - loss: 7.9727 - mean_squared_error: 7.9727 - val_loss: 7.6109 - val_mean_squared_error: 7.6109\n",
      "Epoch 213/250\n",
      "4195/4195 [==============================] - 1s 185us/step - loss: 8.0245 - mean_squared_error: 8.0245 - val_loss: 7.7792 - val_mean_squared_error: 7.7792\n",
      "Epoch 214/250\n",
      "4195/4195 [==============================] - 1s 182us/step - loss: 8.0082 - mean_squared_error: 8.0082 - val_loss: 8.0530 - val_mean_squared_error: 8.0530\n",
      "Epoch 215/250\n",
      "4195/4195 [==============================] - 1s 180us/step - loss: 8.0365 - mean_squared_error: 8.0365 - val_loss: 7.7364 - val_mean_squared_error: 7.7364\n",
      "Epoch 216/250\n",
      "4195/4195 [==============================] - 1s 183us/step - loss: 7.9936 - mean_squared_error: 7.9936 - val_loss: 7.6928 - val_mean_squared_error: 7.6928\n",
      "Epoch 217/250\n",
      "4195/4195 [==============================] - 1s 181us/step - loss: 8.0692 - mean_squared_error: 8.0692 - val_loss: 7.8270 - val_mean_squared_error: 7.8270\n",
      "Epoch 218/250\n",
      "4195/4195 [==============================] - 1s 183us/step - loss: 7.9796 - mean_squared_error: 7.9796 - val_loss: 7.7986 - val_mean_squared_error: 7.7986\n",
      "Epoch 219/250\n",
      "4195/4195 [==============================] - 1s 182us/step - loss: 8.1247 - mean_squared_error: 8.1247 - val_loss: 7.7997 - val_mean_squared_error: 7.7997\n",
      "Epoch 220/250\n",
      "4195/4195 [==============================] - 1s 179us/step - loss: 8.0508 - mean_squared_error: 8.0508 - val_loss: 8.1087 - val_mean_squared_error: 8.1087\n",
      "Epoch 221/250\n",
      "4195/4195 [==============================] - 1s 182us/step - loss: 8.0085 - mean_squared_error: 8.0085 - val_loss: 7.7152 - val_mean_squared_error: 7.7152\n",
      "Epoch 222/250\n",
      "4195/4195 [==============================] - 1s 181us/step - loss: 8.0041 - mean_squared_error: 8.0041 - val_loss: 7.8857 - val_mean_squared_error: 7.8857\n",
      "Epoch 223/250\n",
      "4195/4195 [==============================] - 1s 180us/step - loss: 8.0059 - mean_squared_error: 8.0059 - val_loss: 7.9178 - val_mean_squared_error: 7.9178\n",
      "Epoch 224/250\n",
      "4195/4195 [==============================] - 1s 180us/step - loss: 8.0193 - mean_squared_error: 8.0193 - val_loss: 7.7687 - val_mean_squared_error: 7.7687\n",
      "Epoch 225/250\n",
      "4195/4195 [==============================] - 1s 180us/step - loss: 8.0111 - mean_squared_error: 8.0111 - val_loss: 8.2667 - val_mean_squared_error: 8.2667\n",
      "Epoch 226/250\n",
      "4195/4195 [==============================] - 1s 179us/step - loss: 7.9154 - mean_squared_error: 7.9154 - val_loss: 7.6494 - val_mean_squared_error: 7.6494\n",
      "Epoch 227/250\n",
      "4195/4195 [==============================] - 1s 181us/step - loss: 8.1114 - mean_squared_error: 8.1114 - val_loss: 7.8055 - val_mean_squared_error: 7.8055\n",
      "Epoch 228/250\n",
      "4195/4195 [==============================] - 1s 181us/step - loss: 7.9271 - mean_squared_error: 7.9271 - val_loss: 7.9281 - val_mean_squared_error: 7.9281\n",
      "Epoch 229/250\n",
      "4195/4195 [==============================] - 1s 180us/step - loss: 8.0602 - mean_squared_error: 8.0602 - val_loss: 8.1003 - val_mean_squared_error: 8.1003\n",
      "Epoch 230/250\n",
      "4195/4195 [==============================] - 1s 177us/step - loss: 8.1412 - mean_squared_error: 8.1412 - val_loss: 7.9840 - val_mean_squared_error: 7.9840\n",
      "Epoch 231/250\n",
      "4195/4195 [==============================] - 1s 182us/step - loss: 8.0151 - mean_squared_error: 8.0151 - val_loss: 8.0853 - val_mean_squared_error: 8.0853\n",
      "Epoch 232/250\n",
      "4195/4195 [==============================] - 1s 187us/step - loss: 7.9586 - mean_squared_error: 7.9586 - val_loss: 9.0423 - val_mean_squared_error: 9.0423\n",
      "Epoch 233/250\n",
      "4195/4195 [==============================] - 1s 182us/step - loss: 8.0304 - mean_squared_error: 8.0304 - val_loss: 7.9108 - val_mean_squared_error: 7.9108\n",
      "Epoch 234/250\n",
      "4195/4195 [==============================] - 1s 179us/step - loss: 8.0372 - mean_squared_error: 8.0372 - val_loss: 7.7007 - val_mean_squared_error: 7.7007\n",
      "Epoch 235/250\n",
      "4195/4195 [==============================] - 1s 180us/step - loss: 8.1381 - mean_squared_error: 8.1381 - val_loss: 8.6241 - val_mean_squared_error: 8.6241\n",
      "Epoch 236/250\n",
      "4195/4195 [==============================] - 1s 183us/step - loss: 8.0611 - mean_squared_error: 8.0611 - val_loss: 7.7422 - val_mean_squared_error: 7.7422\n",
      "Epoch 237/250\n",
      "4195/4195 [==============================] - 1s 183us/step - loss: 7.9564 - mean_squared_error: 7.9564 - val_loss: 8.1961 - val_mean_squared_error: 8.1961\n",
      "Epoch 238/250\n",
      "4195/4195 [==============================] - 1s 177us/step - loss: 7.9568 - mean_squared_error: 7.9568 - val_loss: 8.1536 - val_mean_squared_error: 8.1536\n",
      "Epoch 239/250\n",
      "4195/4195 [==============================] - 1s 182us/step - loss: 8.1016 - mean_squared_error: 8.1016 - val_loss: 8.1951 - val_mean_squared_error: 8.1951\n",
      "Epoch 240/250\n",
      "4195/4195 [==============================] - 1s 182us/step - loss: 7.9867 - mean_squared_error: 7.9867 - val_loss: 7.7389 - val_mean_squared_error: 7.7389\n",
      "Epoch 241/250\n",
      "4195/4195 [==============================] - 1s 176us/step - loss: 8.0085 - mean_squared_error: 8.0085 - val_loss: 8.0689 - val_mean_squared_error: 8.0689\n",
      "Epoch 242/250\n",
      "4195/4195 [==============================] - 1s 182us/step - loss: 8.0110 - mean_squared_error: 8.0110 - val_loss: 8.1563 - val_mean_squared_error: 8.1563\n",
      "Epoch 243/250\n",
      "4195/4195 [==============================] - 1s 180us/step - loss: 8.0511 - mean_squared_error: 8.0511 - val_loss: 8.2914 - val_mean_squared_error: 8.2914\n",
      "Epoch 244/250\n",
      "4195/4195 [==============================] - 1s 179us/step - loss: 8.0218 - mean_squared_error: 8.0218 - val_loss: 8.5403 - val_mean_squared_error: 8.5403\n",
      "Epoch 245/250\n",
      "4195/4195 [==============================] - 1s 180us/step - loss: 8.0156 - mean_squared_error: 8.0156 - val_loss: 7.7101 - val_mean_squared_error: 7.7101\n",
      "Epoch 246/250\n",
      "4195/4195 [==============================] - 1s 180us/step - loss: 8.1208 - mean_squared_error: 8.1208 - val_loss: 7.7912 - val_mean_squared_error: 7.7912\n",
      "Epoch 247/250\n",
      "4195/4195 [==============================] - 1s 179us/step - loss: 8.0741 - mean_squared_error: 8.0741 - val_loss: 7.7112 - val_mean_squared_error: 7.7112\n",
      "Epoch 248/250\n",
      "4195/4195 [==============================] - 1s 181us/step - loss: 7.9881 - mean_squared_error: 7.9881 - val_loss: 7.6704 - val_mean_squared_error: 7.6704\n",
      "Epoch 249/250\n",
      "4195/4195 [==============================] - 1s 180us/step - loss: 7.9784 - mean_squared_error: 7.9784 - val_loss: 8.0422 - val_mean_squared_error: 8.0422\n",
      "Epoch 250/250\n",
      "4195/4195 [==============================] - 1s 181us/step - loss: 8.3086 - mean_squared_error: 8.3086 - val_loss: 8.0164 - val_mean_squared_error: 8.0164\n"
     ]
    },
    {
     "data": {
      "image/png": "[encoded data removed]",
      "text/plain": [
       "<Figure size 576x360 with 1 Axes>"
      ]
     },
     "metadata": {
      "tags": []
     },
     "output_type": "display_data"
    }
   ],
   "source": [
    "from keras.models import Sequential\n",
    "from keras.layers import Dense,Dropout,BatchNormalization\n",
    "from tensorflow import keras\n",
    "from keras import optimizers\n",
    "from sklearn.model_selection import train_test_split\n",
    "from tqdm import tqdm\n",
    "xtrain, xvalid, ytrain, yvalid = train_test_split(X_train,y_train)\n",
    "model = Sequential()\n",
    "model.add(Dense(64, input_dim=15, activation= \"relu\"))\n",
    "model.add(BatchNormalization())\n",
    "# model.add(Dense(256,activation= \"relu\"))\n",
    "# model.add(BatchNormalization())\n",
    "# model.add(Dropout(0.3))\n",
    "# model.add(Dense(64,activation= \"relu\"))\n",
    "# model.add(BatchNormalization())\n",
    "model.add(Dense(1,activation='linear'))\n",
    "\n",
    "\n",
    "model.compile(loss= \"mean_squared_error\" , optimizer='adam', metrics=[\"mean_squared_error\"])\n",
    "\n",
    "history=model.fit(X_train,y_train,epochs=250,validation_data=(xvalid, yvalid))\n",
    "model.save(\"kerasmodel.h5\")\n",
    "import pandas as pd\n",
    "import matplotlib.pyplot as plt\n",
    "pd.DataFrame(history.history).plot(figsize=(8, 5))\n",
    "plt.grid(True)\n",
    "plt.show()\n",
    "\n"
   ]
  },
  {
   "cell_type": "code",
   "execution_count": 0,
   "metadata": {
    "colab": {},
    "colab_type": "code",
    "id": "MFw9bYLUhKFm"
   },
   "outputs": [],
   "source": [
    "from keras.utils import plot_model##NN Architecture Saved\n",
    "plot_model(model, to_file='model.png')"
   ]
  },
  {
   "cell_type": "code",
   "execution_count": 10,
   "metadata": {
    "colab": {},
    "colab_type": "code",
    "id": "9QjQDL7twFSG"
   },
   "outputs": [
    {
     "data": {
      "text/plain": [
       "<matplotlib.image.AxesImage at 0x298624e6080>"
      ]
     },
     "execution_count": 10,
     "metadata": {},
     "output_type": "execute_result"
    },
    {
     "data": {
      "image/png": "[encoded data removed]",
      "text/plain": [
       "<Figure size 792x792 with 1 Axes>"
      ]
     },
     "metadata": {
      "needs_background": "light"
     },
     "output_type": "display_data"
    }
   ],
   "source": [
    "import matplotlib.pyplot as plt\n",
    "import cv2\n",
    "img=cv2.imread(\"Capture.jpg\")\n",
    "plt.figure(figsize=(11,11))\n",
    "plt.imshow(img)"
   ]
  },
  {
   "cell_type": "markdown",
   "metadata": {},
   "source": [
    "<p> A big improvement from the last apporach</p>"
   ]
  },
  {
   "cell_type": "code",
   "execution_count": null,
   "metadata": {},
   "outputs": [],
   "source": []
  }
 ],
 "metadata": {
  "accelerator": "GPU",
  "colab": {
   "collapsed_sections": [],
   "name": "Main-Kernel-2.ipynb",
   "provenance": [],
   "version": "0.3.2"
  },
  "kernelspec": {
   "display_name": "Python 3",
   "language": "python",
   "name": "python3"
  },
  "language_info": {
   "codemirror_mode": {
    "name": "ipython",
    "version": 3
   },
   "file_extension": ".py",
   "mimetype": "text/x-python",
   "name": "python",
   "nbconvert_exporter": "python",
   "pygments_lexer": "ipython3",
   "version": "3.7.1"
  }
 },
 "nbformat": 4,
 "nbformat_minor": 1
}
